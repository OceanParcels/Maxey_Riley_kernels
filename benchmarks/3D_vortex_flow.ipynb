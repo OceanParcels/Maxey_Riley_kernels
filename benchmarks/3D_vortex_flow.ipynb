{
 "cells": [
  {
   "cell_type": "markdown",
   "metadata": {},
   "source": [
    "# 3D vortex flow\n",
    "We use the flowfield as defined in the paper: \"Aggregation of slightly buoyant microplastics in 3D vortex flows\"  \n",
    "by I. Rypina, L. Pratt and M. Dotzel in Nonlinear processes in gheophsics, 25-33, 3(1) (2024)  \n",
    "We test both the symmetric and assymetric 3D flow. \n"
   ]
  },
  {
   "cell_type": "code",
   "execution_count": null,
   "metadata": {},
   "outputs": [],
   "source": [
    "# import needed packages\n",
    "import sys\n",
    "sys.path.append('../')\n",
    "import numpy as np\n",
    "import xarray as xr\n",
    "import matplotlib.pyplot as plt\n",
    "from datetime import datetime, timedelta \n",
    "from parcels import FieldSet, ParticleSet, ParticleFile\n",
    "from parcels import AdvectionRK4\n",
    "from functions.kernels import InertialParticle2D, InitializeParticles3D, MRAdvectionRK4_3D, MRSMAdvectionRK4_3D\n",
    "\n",
    "\n",
    "plt.style.use('../python_style_Meike.mplstyle')"
   ]
  },
  {
   "cell_type": "code",
   "execution_count": 7,
   "metadata": {},
   "outputs": [
    {
     "data": {
      "application/json": {
       "Software versions": [
        {
         "module": "Python",
         "version": "3.12.2 64bit [GCC 12.3.0]"
        },
        {
         "module": "IPython",
         "version": "8.22.2"
        },
        {
         "module": "OS",
         "version": "Linux 4.18.0 553.22.1.el8_10.x86_64 x86_64 with glibc2.28"
        },
        {
         "module": "numpy",
         "version": "1.26.4"
        },
        {
         "module": "matplotlib",
         "version": "3.8.3"
        },
        {
         "module": "xarray",
         "version": "2024.2.0"
        },
        {
         "module": "parcels",
         "version": "3.0.2"
        }
       ]
      },
      "text/html": [
       "<table><tr><th>Software</th><th>Version</th></tr><tr><td>Python</td><td>3.12.2 64bit [GCC 12.3.0]</td></tr><tr><td>IPython</td><td>8.22.2</td></tr><tr><td>OS</td><td>Linux 4.18.0 553.22.1.el8\\_10.x86\\_64 x86\\_64 with glibc2.28</td></tr><tr><td>numpy</td><td>1.26.4</td></tr><tr><td>matplotlib</td><td>3.8.3</td></tr><tr><td>xarray</td><td>2024.2.0</td></tr><tr><td>parcels</td><td>3.0.2</td></tr><tr><td colspan='2'>Thu Oct 31 16:16:35 2024 CET</td></tr></table>"
      ],
      "text/latex": [
       "\\begin{tabular}{|l|l|}\\hline\n",
       "{\\bf Software} & {\\bf Version} \\\\ \\hline\\hline\n",
       "Python & 3.12.2 64bit [GCC 12.3.0] \\\\ \\hline\n",
       "IPython & 8.22.2 \\\\ \\hline\n",
       "OS & Linux 4.18.0 553.22.1.el8\\_10.x86\\_64 x86\\_64 with glibc2.28 \\\\ \\hline\n",
       "numpy & 1.26.4 \\\\ \\hline\n",
       "matplotlib & 3.8.3 \\\\ \\hline\n",
       "xarray & 2024.2.0 \\\\ \\hline\n",
       "parcels & 3.0.2 \\\\ \\hline\n",
       "\\hline \\multicolumn{2}{|l|}{Thu Oct 31 16:16:35 2024 CET} \\\\ \\hline\n",
       "\\end{tabular}\n"
      ],
      "text/plain": [
       "Software versions\n",
       "Python 3.12.2 64bit [GCC 12.3.0]\n",
       "IPython 8.22.2\n",
       "OS Linux 4.18.0 553.22.1.el8_10.x86_64 x86_64 with glibc2.28\n",
       "numpy 1.26.4\n",
       "matplotlib 3.8.3\n",
       "xarray 2024.2.0\n",
       "parcels 3.0.2\n",
       "Thu Oct 31 16:16:35 2024 CET"
      ]
     },
     "execution_count": 7,
     "metadata": {},
     "output_type": "execute_result"
    }
   ],
   "source": [
    "# print python version\n",
    "%load_ext autoreload\n",
    "%autoreload 2\n",
    "%load_ext version_information\n",
    "%version_information numpy, matplotlib, xarray, parcels"
   ]
  },
  {
   "cell_type": "code",
   "execution_count": 1,
   "metadata": {},
   "outputs": [],
   "source": [
    "def cylinder_flow3D(x, y, z, a, b, c, r0 ,y0, beta, gamma, epsilon):\n",
    "    Z, Y, X = np.meshgrid(z, y, x,indexing='ij')\n",
    "    R = np.sqrt((X**2+Y**2))\n",
    "    ux=-b*X*(1-2*Z)*(r0-R)/3.0-a*Y*(c+Z**2)+epsilon*(Y*(Y-y0+gamma)-(r0**2-R**2)/2.)*(1-beta*Z)\n",
    "    uy=-b*Y*(1-2*Z)*(r0-R)/3.0+a*X*(c+Z**2)-epsilon*X*(Y-y0+gamma)*(1-beta*Z)\n",
    "    uz=b*Z*(1-Z)*(2*r0-3*R)/3.0\n",
    "    return X, Y, Z, ux, uy, uz"
   ]
  },
  {
   "cell_type": "markdown",
   "metadata": {},
   "source": [
    "## Symmetric flow\n"
   ]
  },
  {
   "cell_type": "code",
   "execution_count": null,
   "metadata": {},
   "outputs": [],
   "source": [
    "# settings for symmetric flow:\n",
    "x=np.linspace(-0.5,0.5,101)\n",
    "y=np.linspace(-0.5,0.5,101)\n",
    "z=np.linspace(0,1,101)\n",
    "\n",
    "\n",
    "a=0.62\n",
    "b=7.5\n",
    "c=0.69\n",
    "r0=0.5\n",
    "y0=0\n",
    "beta=0\n",
    "gamma=0\n",
    "epsilon=0\n",
    "\n",
    "X, Y, Z, ux, uy, uz = cylinder_flow3D(x,y,z,a,b,c,r0,y0,beta,gamma,epsilon) \n",
    "\n",
    "#save field in dictionary\n",
    "data_symmetric_flow = {\n",
    "    \"U\": ux,\n",
    "    \"V\": uy,\n",
    "    \"W\": uz,\n",
    "    }\n",
    "\n",
    "dims_symmetric_flow = {\n",
    "    \"lon\": X,\n",
    "    \"lat\": Y,\n",
    "    \"depth\": Z\n",
    "    }"
   ]
  },
  {
   "cell_type": "markdown",
   "metadata": {},
   "source": [
    "## parcels simulation"
   ]
  },
  {
   "cell_type": "code",
   "execution_count": null,
   "metadata": {},
   "outputs": [],
   "source": [
    "#fieldset\n",
    "# set fieldset\n",
    "fieldset = FieldSet.from_data(\n",
    "    data = data_symmetric_flow,\n",
    "    dimensions = dims_symmetric_flow,\n",
    "    mesh=\"flat\",\n",
    "    allow_time_extrapolation=True\n",
    ")\n",
    "# add rotation here 0 as we have flat mesh\n",
    "fieldset.add_constant('Omega_earth', 0) \n",
    "fieldset.add_constant('g', 10) \n",
    "\n",
    "# stepsize for finite differences calculation\n",
    "Delta_x = fieldset.U.grid.lon[0,1]-fieldset.U.grid.lon[0,0]\n",
    "Delta_y = fieldset.U.grid.lat[1,0]-fieldset.U.grid.lat[0,0]\n",
    "delta_x = 0.5 * Delta_x\n",
    "delta_y = 0.5 * Delta_y\n",
    "fieldset.add_constant('delta_x', delta_x)\n",
    "fieldset.add_constant('delta_y', delta_y)\n",
    "print(f'(delta x, delta y) = ({delta_x}, {delta_y})')\n"
   ]
  },
  {
   "cell_type": "code",
   "execution_count": null,
   "metadata": {},
   "outputs": [],
   "source": [
    " #particle settings\n",
    "B = 0.97\n",
    "tau = 0.1"
   ]
  },
  {
   "cell_type": "markdown",
   "metadata": {},
   "source": []
  }
 ],
 "metadata": {
  "kernelspec": {
   "display_name": "Python 3",
   "language": "python",
   "name": "python3"
  },
  "language_info": {
   "codemirror_mode": {
    "name": "ipython",
    "version": 3
   },
   "file_extension": ".py",
   "mimetype": "text/x-python",
   "name": "python",
   "nbconvert_exporter": "python",
   "pygments_lexer": "ipython3",
   "version": "3.12.2"
  }
 },
 "nbformat": 4,
 "nbformat_minor": 2
}
